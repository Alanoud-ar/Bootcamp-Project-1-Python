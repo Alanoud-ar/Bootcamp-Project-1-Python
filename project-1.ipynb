{
 "cells": [
  {
   "cell_type": "code",
   "execution_count": null,
   "id": "501dc972",
   "metadata": {},
   "outputs": [],
   "source": []
  },
  {
   "cell_type": "code",
   "execution_count": 11,
   "id": "4307e2b3",
   "metadata": {},
   "outputs": [
    {
     "ename": "SyntaxError",
     "evalue": "cannot assign to lambda (<ipython-input-11-019ac7358851>, line 28)",
     "output_type": "error",
     "traceback": [
      "\u001b[0;36m  File \u001b[0;32m\"<ipython-input-11-019ac7358851>\"\u001b[0;36m, line \u001b[0;32m28\u001b[0m\n\u001b[0;31m    l= lambda total: total= sum(y)\u001b[0m\n\u001b[0m       ^\u001b[0m\n\u001b[0;31mSyntaxError\u001b[0m\u001b[0;31m:\u001b[0m cannot assign to lambda\n"
     ]
    }
   ],
   "source": [
    "def rest_menu():\n",
    "    dict1= {\n",
    "        \"Soup\": 28,\n",
    "        \"Salad\": 20,\n",
    "        \"Pasta\": 45,\n",
    "        \"Pizza\": 40,\n",
    "        \"Burger\": 32,\n",
    "        \"Fries\": 12,\n",
    "        \"Cheese Cake\": 20,\n",
    "        \"Brownie\": 20,\n",
    "        \"Pepsi\":6,\n",
    "        \"Orange Juice\":14\n",
    "    }\n",
    "    print(\"Welcome to ad-hoc Restaurant\",\"\\n\",\"Please Choose from the following Menu: \\\"press Q to Exit\\\"\")\n",
    "    print(dict1)\n",
    "    while True:\n",
    "        y=[]\n",
    "        x= input()\n",
    "        z= dict1[x]\n",
    "        y.append(z)\n",
    "        if x == \"q\":\n",
    "            break\n",
    "            \n",
    "#     print(y)\n",
    "#     total = sum(y)\n",
    "#     print(\"the total is: \", total)\n",
    "    \n",
    "    l= lambda total: total= sum(y) \n",
    "    print(l)\n",
    "\n",
    "rest_menu()      "
   ]
  },
  {
   "cell_type": "code",
   "execution_count": null,
   "id": "a17edfd9",
   "metadata": {},
   "outputs": [],
   "source": []
  },
  {
   "cell_type": "code",
   "execution_count": null,
   "id": "2de1c2c3",
   "metadata": {},
   "outputs": [],
   "source": []
  }
 ],
 "metadata": {
  "kernelspec": {
   "display_name": "Python 3",
   "language": "python",
   "name": "python3"
  },
  "language_info": {
   "codemirror_mode": {
    "name": "ipython",
    "version": 3
   },
   "file_extension": ".py",
   "mimetype": "text/x-python",
   "name": "python",
   "nbconvert_exporter": "python",
   "pygments_lexer": "ipython3",
   "version": "3.8.8"
  }
 },
 "nbformat": 4,
 "nbformat_minor": 5
}
