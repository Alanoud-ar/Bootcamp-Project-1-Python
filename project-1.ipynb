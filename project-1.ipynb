{
 "cells": [
  {
   "cell_type": "code",
   "execution_count": null,
   "id": "5dc8c9f3",
   "metadata": {},
   "outputs": [],
   "source": []
  },
  {
   "cell_type": "code",
   "execution_count": null,
   "id": "3dd15c07",
   "metadata": {},
   "outputs": [
    {
     "name": "stdout",
     "output_type": "stream",
     "text": [
      "Welcome to ad-hoc Restaurant \n",
      " Please Choose from the following Menu: \"press Q to Exit\"\n",
      "{'Soup': 28, 'Salad': 20, 'Pasta': 45, 'Pizza': 40, 'Burger': 32, 'Fries': 12, 'Cheese Cake': 20, 'Brownie': 20, 'Pepsi': 6, 'Orange Juice': 14}\n"
     ]
    }
   ],
   "source": [
    "def rest_menu():\n",
    "    dict1= {\n",
    "        \"Soup\": 28,\n",
    "        \"Salad\": 20,\n",
    "        \"Pasta\": 45,\n",
    "        \"Pizza\": 40,\n",
    "        \"Burger\": 32,\n",
    "        \"Fries\": 12,\n",
    "        \"Cheese Cake\": 20,\n",
    "        \"Brownie\": 20,\n",
    "        \"Pepsi\":6,\n",
    "        \"Orange Juice\":14\n",
    "    }\n",
    "    print(\"Welcome to ad-hoc Restaurant\",\"\\n\",\"Please Choose from the following Menu: \\\"press Q to Exit\\\"\")\n",
    "    print(dict1)\n",
    "    while True:\n",
    "        y=[]\n",
    "        x= input()\n",
    "        z= dict1[x]\n",
    "        y.append(z)\n",
    "        if x == \"q\":\n",
    "            break\n",
    "    print(y)\n",
    "    total = sum(y)\n",
    "    print(\"the total is: \", total)\n",
    "    \n",
    "rest_menu()      "
   ]
  },
  {
   "cell_type": "code",
   "execution_count": null,
   "id": "0cb843b6",
   "metadata": {},
   "outputs": [],
   "source": []
  },
  {
   "cell_type": "code",
   "execution_count": null,
   "id": "3a00418a",
   "metadata": {},
   "outputs": [],
   "source": []
  }
 ],
 "metadata": {
  "kernelspec": {
   "display_name": "Python 3",
   "language": "python",
   "name": "python3"
  },
  "language_info": {
   "codemirror_mode": {
    "name": "ipython",
    "version": 3
   },
   "file_extension": ".py",
   "mimetype": "text/x-python",
   "name": "python",
   "nbconvert_exporter": "python",
   "pygments_lexer": "ipython3",
   "version": "3.8.8"
  }
 },
 "nbformat": 4,
 "nbformat_minor": 5
}
